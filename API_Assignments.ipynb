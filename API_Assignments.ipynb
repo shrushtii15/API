{
  "nbformat": 4,
  "nbformat_minor": 0,
  "metadata": {
    "colab": {
      "provenance": []
    },
    "kernelspec": {
      "name": "python3",
      "display_name": "Python 3"
    },
    "language_info": {
      "name": "python"
    }
  },
  "cells": [
    {
      "cell_type": "markdown",
      "source": [
        "**Restful API & Flask**"
      ],
      "metadata": {
        "id": "1xKGi_hGRZXl"
      }
    },
    {
      "cell_type": "markdown",
      "source": [
        "1. What is a RESTful API?\n",
        "\n",
        "  Restful API is an architectural style that defines a set of constraints to be used for creating web-server.\n"
      ],
      "metadata": {
        "id": "DxsdbWKhRZUG"
      }
    },
    {
      "cell_type": "markdown",
      "source": [
        "2.  Explain the concept of API specification?\n",
        "  \n",
        "   An API specification is a formal document (like OpenAPI/Swagger) that defines how an API works — endpoints, request/response formats, parameters, authentication, etc. It acts as a contract between backend and frontend (or clients)\n"
      ],
      "metadata": {
        "id": "HiFPwIeIRZRi"
      }
    },
    {
      "cell_type": "markdown",
      "source": [
        "3.  What is Flask, and why is it popular for building APIs?\n",
        "\n",
        "  Flask is a lightweight Python web framework.\n",
        "  It’s popular for APIs because:\n",
        "\n",
        "  Minimalistic & easy to learn.\n",
        "\n",
        "  Flexible — you choose your tools.\n",
        "\n",
        "  Good ecosystem (e.g., Flask-RESTful, Flask-SQLAlchemy).\n"
      ],
      "metadata": {
        "id": "eu-CRZaWRZPH"
      }
    },
    {
      "cell_type": "markdown",
      "source": [
        "4.  What is routing in Flask?\n",
        "\n",
        " Routing refers to mapping URLs to specific Python functions (called view functions) that handle the request.\n"
      ],
      "metadata": {
        "id": "7Rih6x6lRZMd"
      }
    },
    {
      "cell_type": "markdown",
      "source": [
        "5.  How do you create a simple Flask application?\n",
        "\n",
        "      from flask import Flask\n",
        "      \n",
        "      app= Flask(__name__)\n",
        "\n",
        "      @app.route('/')\n",
        "\n",
        "      def home():\n",
        "\n",
        "      return \"Welcome\"\n",
        "\n",
        "      if __name__=\"__main__\":\n",
        "\n",
        "      app.run(debug==True)      "
      ],
      "metadata": {
        "id": "ewwtMQXJRZJz"
      }
    },
    {
      "cell_type": "markdown",
      "source": [
        "6.  What are HTTP methods used in RESTful APIs?\n",
        "\n",
        "   GET – Retrieve data.\n",
        "\n",
        "    POST – Create a resource.\n",
        "\n",
        "    PUT – Update a resource completely.\n",
        "\n",
        "    PATCH – Partially update a resource.\n",
        "\n",
        "    DELETE – Delete a resource.\n",
        "\n",
        "  \n"
      ],
      "metadata": {
        "id": "MZe3xcmxRZHL"
      }
    },
    {
      "cell_type": "markdown",
      "source": [
        "7.  What is the purpose of the @app.route() decorator in Flask?\n",
        "\n",
        "   It registers a view function for a specific URL route and HTTP methods.\n"
      ],
      "metadata": {
        "id": "RapLhOXTRZEi"
      }
    },
    {
      "cell_type": "markdown",
      "source": [
        "8.  What is the difference between GET and POST HTTP methods?\n",
        "\n",
        " GET: Fetches the data.\n",
        "\n",
        " POST: Sends data to server,used to create resources"
      ],
      "metadata": {
        "id": "usdkskMmSI4L"
      }
    },
    {
      "cell_type": "markdown",
      "source": [
        "9.  How do you handle errors in Flask APIs?\n",
        "\n",
        "   Use @app.errorhandler\n",
        "\n",
        "   def page_not_found(e):\n",
        "\n",
        "     *you can return a string, template, or even a redirect*\n",
        "     \n",
        "      return render_template('404.html'), 404\n",
        "\n",
        "\n"
      ],
      "metadata": {
        "id": "fN0pUs1MSI0k"
      }
    },
    {
      "cell_type": "markdown",
      "source": [
        "10.  How do you connect Flask to a SQL database?\n",
        "\n",
        "\n",
        "    from flask import Flask\n",
        "    from flask_sqlalchemy import SQLAlchemy\n",
        "\n",
        "    app = Flask(__name__)\n",
        "    app.config['SQLALCHEMY_DATABASE_URI'] = 'sqlite:///mydb.sqlite'\n",
        "    app.config['SQLALCHEMY_TRACK_MODIFICATIONS'] = False\n",
        "\n",
        "    db = SQLAlchemy(app)\n"
      ],
      "metadata": {
        "id": "64HwXn7DSIyk"
      }
    },
    {
      "cell_type": "markdown",
      "source": [
        "11.  What is the role of Flask-SQLAlchemy?\n",
        "\n",
        "    --It configures SQLAlchemy automatically from your Flask app config\n",
        "\n",
        "    --Manages sessions and connections properly (per request)\n",
        "\n",
        "    --Integrates with Flask’s app context\n",
        "\n",
        "    --Adds some helper methods that simplify common tasks\n",
        "\n",
        "\n"
      ],
      "metadata": {
        "id": "UrMCtVmXSIv5"
      }
    },
    {
      "cell_type": "markdown",
      "source": [
        "12.  What are Flask blueprints, and how are they useful?\n",
        "\n",
        "  It is like a mini Flask application that you can register on your main app.\n",
        "You define routes, templates, static files, and error handlers in the blueprint, then attach it to the main app.\n",
        "\n",
        " -Break the app into logical components (e.g., auth, blog, admin)\n",
        "\n",
        " -Keep code clean and maintainable\n",
        "\n",
        " -Allow collaboration (different developers work on different blueprints)\n",
        "\n",
        " -Reuse blueprints across projects\n"
      ],
      "metadata": {
        "id": "96xaXo8wSItt"
      }
    },
    {
      "cell_type": "markdown",
      "source": [
        "13.  What is the purpose of Flask's request object?\n",
        "\n",
        " The request object in Flask represents the HTTP request sent by the client (browser, API client, etc.) to your Flask application.\n"
      ],
      "metadata": {
        "id": "GFifqKTlSIra"
      }
    },
    {
      "cell_type": "markdown",
      "source": [
        "14.  How do you create a RESTful API endpoint using Flask?\n",
        "\n",
        "   A RESTful API endpoint is just a URL in your app that:\n",
        "\n",
        "   --accepts HTTP methods like GET, POST, PUT, DELETE\n",
        "\n",
        "   --works with resources (e.g., /users, /posts/123)\n",
        "\n",
        "   --sends and receives JSON data\n",
        "\n",
        "\n",
        "\n",
        "    @app.route('/api/users', methods=['GET'])\n",
        "    def get_users():\n",
        "    return jsonify(users)\n"
      ],
      "metadata": {
        "id": "ViDPgR0ESIoy"
      }
    },
    {
      "cell_type": "markdown",
      "source": [
        "15.  What is the purpose of Flask's jsonify() function?\n",
        "\n",
        "   jsonify() is a helper function provided by Flask to create a proper JSON response easily and safely.\n",
        "   \n",
        "   It Converts Python data (like dict, list) into a JSON-formatted string\n",
        "\n",
        "\n"
      ],
      "metadata": {
        "id": "KeRwrEgJSImU"
      }
    },
    {
      "cell_type": "markdown",
      "source": [
        "16.  Explain Flask’s url_for() function.\n",
        "\n",
        "   url_for() is a helper function in Flask that generates the correct URL for a given view function name (endpoint).\n",
        "   \n",
        "   It helps you avoid hardcoding URLs in your templates or Python code.\n"
      ],
      "metadata": {
        "id": "UOHqE4ndSIkK"
      }
    },
    {
      "cell_type": "markdown",
      "source": [
        "17.  How does Flask handle static files (CSS, JavaScript, etc.)?\n",
        "   \n",
        "    You should use url_for('static', filename=...) so it always generates the correct path.\n",
        "\n",
        "\n"
      ],
      "metadata": {
        "id": "NVUExWS2SIh3"
      }
    },
    {
      "cell_type": "markdown",
      "source": [
        "18.  What is an API specification, and how does it help in building a Flask API?\n",
        "\n",
        "\n",
        "  An API specification is a formal, structured document that describes:\n",
        "\n",
        "  What endpoints your API exposes\n",
        "\n",
        "  What HTTP methods each endpoint supports\n",
        "\n",
        "  What parameters, headers, and request bodies are expected\n",
        "\n",
        "  What responses (status codes + JSON schemas) will be returned\n",
        "\n",
        "  Authentication and error handling details\n",
        "\n",
        "  #it help in building a Flask API: for clear communication , documentation,  Validation, code generation"
      ],
      "metadata": {
        "id": "Nzw3NJgySIfX"
      }
    },
    {
      "cell_type": "markdown",
      "source": [
        "19.  What are HTTP status codes, and why are they important in a Flask API?\n",
        "\n",
        "  The status code is a 3-digit number that tells the client what happened to their request — success? failure? error? redirect?\n",
        "\n",
        "  --They tell the client whether their request was successful, failed, or needs to change.\n",
        "\n",
        "  --Helps debugging and logging."
      ],
      "metadata": {
        "id": "W6JZ2XT-SIdE"
      }
    },
    {
      "cell_type": "markdown",
      "source": [
        "20.  How do you handle POST requests in Flask?\n",
        "\n",
        "    Use the methods argument in @app.route():\n",
        "\n",
        "    from flask import Flask, request, jsonify\n",
        "\n",
        "    app = Flask(__name__)\n",
        "\n",
        "    @app.route('/submit', methods=['POST'])\n",
        "    \n",
        "    def submit():\n",
        "       #handle POST here\n",
        "\n",
        "        pass\n"
      ],
      "metadata": {
        "id": "RNh0ZUq7SIaq"
      }
    },
    {
      "cell_type": "markdown",
      "source": [
        "21.  How would you secure a Flask API?\n",
        "\n",
        "    Authentication\t:Tokens, JWT, OAuth2\n",
        "\n",
        "    Authorization:\tRole-based access control\n",
        "\n",
        "    Input validation:\tMarshmallow, WTForms\n",
        "\n",
        "    HTTPS:\tAlways use HTTPS\n",
        "\n",
        "    CORS: \tAllow only trusted origins\n",
        "    \n",
        "    Error handling:\tDon’t leak stack traces or secrets\n"
      ],
      "metadata": {
        "id": "wjLTbkAzSIYU"
      }
    },
    {
      "cell_type": "markdown",
      "source": [
        "22.  What is the significance of the Flask-RESTful extension?\n",
        "\n",
        "  Flask-RESTful is a Flask extension that helps you build RESTful APIs faster and more cleanly.\n",
        "\n",
        "  It adds tools, classes, and patterns for defining API resources and endpoints, so you don’t have to write all the boilerplate code yourself.\n",
        "\n",
        "  It sits on top of Flask and uses the same WSGI stack — but gives you an easier, more structured way to create APIs.\n"
      ],
      "metadata": {
        "id": "tjpGXMjXSIWO"
      }
    },
    {
      "cell_type": "markdown",
      "source": [
        "23.  What is the role of Flask’s session object?\n",
        "\n",
        "  In web applications, you often need to remember information about a user between requests, like:\n",
        "\n",
        "  -if they’re logged in\n",
        "\n",
        "  -what’s in their shopping cart\n",
        "\n",
        "  -their preferences\n",
        "\n",
        "  Since HTTP is stateless, each request is independent — it doesn’t “remember” anything from the previous request.\n",
        "  \n",
        "  Flask’s session provides a way to store per-user data across requests.\n",
        "\n"
      ],
      "metadata": {
        "id": "chlk7MbeSIT0"
      }
    },
    {
      "cell_type": "markdown",
      "source": [
        "**Practical**"
      ],
      "metadata": {
        "id": "5hRPcC50SIRm"
      }
    },
    {
      "cell_type": "code",
      "source": [
        "#1. How do you create a basic Flask application?\n",
        "\n",
        "from flask import Flask\n",
        "app=Flask(__name__)\n",
        "\n",
        "@app.route('/')\n",
        "def home():\n",
        "  return \"HELLO GUYS\"\n",
        "\n",
        "if __name__=='__main__':\n",
        "  app.run(debug=True)\n"
      ],
      "metadata": {
        "id": "mT-Yh2_0TL-b",
        "colab": {
          "base_uri": "https://localhost:8080/"
        },
        "outputId": "23be63b6-7ad5-4507-b449-1f7f70b53c84"
      },
      "execution_count": null,
      "outputs": [
        {
          "metadata": {
            "tags": null
          },
          "name": "stdout",
          "output_type": "stream",
          "text": [
            " * Serving Flask app '__main__'\n",
            " * Debug mode: on\n"
          ]
        },
        {
          "metadata": {
            "tags": null
          },
          "name": "stderr",
          "output_type": "stream",
          "text": [
            "INFO:werkzeug:\u001b[31m\u001b[1mWARNING: This is a development server. Do not use it in a production deployment. Use a production WSGI server instead.\u001b[0m\n",
            " * Running on http://127.0.0.1:5000\n",
            "INFO:werkzeug:\u001b[33mPress CTRL+C to quit\u001b[0m\n",
            "INFO:werkzeug: * Restarting with stat\n"
          ]
        }
      ]
    },
    {
      "cell_type": "code",
      "source": [
        "#2.  How do you serve static files like images or CSS in Flask?\n",
        "\n",
        "from flask import Flask, render_template\n",
        "app=Flask(__name__)\n",
        "\n",
        "@app.route('/')\n",
        "def home():\n",
        "  return render_template( \"index.html\")\n",
        "\n",
        "if __name__=='__main__':\n",
        "  app.run(debug=True)"
      ],
      "metadata": {
        "id": "UCaGCCw-TL6-"
      },
      "execution_count": null,
      "outputs": []
    },
    {
      "cell_type": "code",
      "source": [
        "#3.  How do you define different routes with different HTTP methods in Flask?\n",
        "\n",
        "from flask import Flask\n",
        "app=Flask(__name__)\n",
        "\n",
        "@app.route('/',methods=[\"GET\"])\n",
        "def home():\n",
        "  return \"HELLO GUYS BACK HOME\"\n",
        "\n",
        "@app.route('/welcome',methods=[\"POST\"])\n",
        "def welcome():\n",
        "  return \"WELCOME GUYS\"\n",
        "\n",
        "@app.route('/guys',methods=[\"UPDATE\"])\n",
        "def guys():\n",
        "  return \"GUYS\"\n",
        "\n",
        "@app.route('/hello',methods=[\"DELETE\"])\n",
        "def hello():\n",
        "  return \"HELLO GUYS\"\n",
        "\n",
        "if __name__=='__main__':\n",
        "  app.run(debug=True)\n",
        "\n"
      ],
      "metadata": {
        "id": "oeiHyLEfTL4E"
      },
      "execution_count": null,
      "outputs": []
    },
    {
      "cell_type": "code",
      "source": [
        "#4.  How do you render HTML templates in Flask?\n",
        "\n",
        "from flask import Flask, render_template\n",
        "app=Flask(__name__)\n",
        "\n",
        "@app.route('/')\n",
        "def home():\n",
        "  return render_template( \"index.html\")\n",
        "\n",
        "if __name__=='__main__':\n",
        "  app.run(debug=True)\n",
        "\n"
      ],
      "metadata": {
        "id": "So6IS60DTL1S"
      },
      "execution_count": null,
      "outputs": []
    },
    {
      "cell_type": "code",
      "source": [
        "#5.  How can you generate URLs for routes in Flask using url_for?\n",
        "\n",
        "from flask import Flask, url_for\n",
        "\n",
        "app = Flask(__name__)\n",
        "\n",
        "@app.route('/')\n",
        "def index():\n",
        "    return 'This is the homepage.'\n",
        "\n",
        "@app.route('/user/<username>')\n",
        "def profile(username):\n",
        "    return f'Profile page of {username}'\n",
        "\n",
        "if __name__=='__main__':\n",
        "  app.run(debug=True)\n",
        "\n"
      ],
      "metadata": {
        "id": "wAtALg3CTLym"
      },
      "execution_count": null,
      "outputs": []
    },
    {
      "cell_type": "code",
      "source": [
        "#6.  How do you handle forms in Flask?\n",
        "\n",
        "from flask import Flask, request, render_template\n",
        "\n",
        "app = Flask(__name__)\n",
        "\n",
        "@app.route('/')\n",
        "def home():\n",
        "    return '''\n",
        "        <form method=\"POST\" action=\"/submit\">\n",
        "            <input type=\"text\" name=\"username\" placeholder=\"Enter your name\">\n",
        "            <input type=\"submit\" value=\"Submit\">\n",
        "        </form>\n",
        "    '''\n",
        "\n",
        "@app.route('/submit', methods=['POST'])\n",
        "def submit():\n",
        "    username = request.form['username']  # or request.form.get('username')\n",
        "    return f'Hello, {username}!'\n",
        "\n",
        "if __name__=='__main__':\n",
        "  app.run(debug=True)\n",
        "\n"
      ],
      "metadata": {
        "id": "2QjCYzdxTLvq"
      },
      "execution_count": null,
      "outputs": []
    },
    {
      "cell_type": "code",
      "source": [
        "#7.  How can you validate form data in Flask?\n",
        "\n",
        "\n",
        "from flask import Flask, request, render_template_string\n",
        "\n",
        "app = Flask(__name__)\n",
        "\n",
        "@app.route('/', methods=['GET', 'POST'])\n",
        "def index():\n",
        "    error = None\n",
        "    if request.method == 'POST':\n",
        "        username = request.form.get('username', '').strip()\n",
        "        if not username:\n",
        "            error = 'Username is required.'\n",
        "        elif len(username) < 3:\n",
        "            error = 'Username must be at least 3 characters.'\n",
        "        else:\n",
        "            return f'Hello, {username}!'\n",
        "\n",
        "    return render_template_string('''\n",
        "        <form method=\"POST\">\n",
        "            <input type=\"text\" name=\"username\">\n",
        "            <input type=\"submit\">\n",
        "        </form>\n",
        "        {% if error %}<p style=\"color:red\">{{ error }}</p>{% endif %}\n",
        "    ''', error=error)\n"
      ],
      "metadata": {
        "id": "7NmBoIvmTLs-"
      },
      "execution_count": null,
      "outputs": []
    },
    {
      "cell_type": "code",
      "source": [
        "#8.  How do you manage sessions in Flask?\n",
        "\n",
        "from flask import Flask, session, redirect, url_for, request\n",
        "\n",
        "app = Flask(__name__)\n",
        "app.secret_key = 'your_super_secret_key'\n",
        "\n",
        "@app.route('/')\n",
        "def index():\n",
        "    if 'username' in session:\n",
        "        return f'Logged in as {session[\"username\"]}'\n",
        "    return 'You are not logged in.'\n",
        "\n",
        "@app.route('/login', methods=['GET', 'POST'])\n",
        "def login():\n",
        "    if request.method == 'POST':\n",
        "        session['username'] = request.form['username']\n",
        "        return redirect(url_for('index'))\n",
        "    return '''\n",
        "        <form method=\"post\">\n",
        "            <input type=\"text\" name=\"username\">\n",
        "            <input type=\"submit\" value=\"Login\">\n",
        "        </form>\n",
        "    '''\n",
        "\n",
        "@app.route('/logout')\n",
        "def logout():\n",
        "    session.pop('username', None)\n",
        "    return redirect(url_for('index'))\n",
        "\n",
        "\n"
      ],
      "metadata": {
        "id": "80d-Y0DGTLp6"
      },
      "execution_count": null,
      "outputs": []
    },
    {
      "cell_type": "code",
      "source": [
        "#9.  How do you redirect to a different route in Flask?\n",
        "\n",
        "from flask import Flask, url_for\n",
        "\n",
        "app = Flask(__name__)\n",
        "\n",
        "@app.route('/')\n",
        "def index():\n",
        "    return 'This is the homepage.'\n",
        "\n",
        "@app.route('/login')\n",
        "def login():\n",
        "    # after login logic\n",
        "    return redirect(url_for('index'))\n",
        "\n",
        "if __name__=='__main__':\n",
        "  app.run(debug=True)\n"
      ],
      "metadata": {
        "id": "Q14cF3tRTLnf"
      },
      "execution_count": null,
      "outputs": []
    },
    {
      "cell_type": "code",
      "source": [
        "#10.  How do you handle errors in Flask (e.g., 404)?\n",
        "\n",
        "from flask import Flask, render_template\n",
        "\n",
        "app = Flask(__name__)\n",
        "\n",
        "@app.route('/')\n",
        "def home():\n",
        "    return 'Welcome to the homepage!'\n",
        "\n",
        "@app.errorhandler(404)\n",
        "def page_not_found(e):\n",
        "    # you can return a string, template, or even a redirect\n",
        "    return render_template('404.html'), 404\n",
        "\n",
        "\n",
        "if __name__=='__main__':\n",
        "  app.run(debug=True)\n"
      ],
      "metadata": {
        "id": "FhUqd56HTLk8"
      },
      "execution_count": null,
      "outputs": []
    },
    {
      "cell_type": "code",
      "source": [
        "#11.  How do you structure a Flask app using Blueprints?\n",
        "\n",
        "\n",
        "from flask import Flask\n",
        "\n",
        "def create_app():\n",
        "    app = Flask(__name__)\n",
        "    app.secret_key = 'secret-key'\n",
        "\n",
        "    # import and register blueprints\n",
        "    from auth.routes import auth_bp\n",
        "    from blog.routes import blog_bp\n",
        "\n",
        "    app.register_blueprint(auth_bp, url_prefix='/auth')\n",
        "    app.register_blueprint(blog_bp, url_prefix='/blog')\n",
        "\n",
        "    @app.route('/')\n",
        "    def home():\n",
        "        return 'Welcome to the homepage!'\n",
        "\n",
        "    return app\n",
        "\n",
        "if __name__ == '__main__':\n",
        "    create_app().run(debug=True)\n",
        "\n"
      ],
      "metadata": {
        "id": "RZ3HhA42TLiP"
      },
      "execution_count": null,
      "outputs": []
    },
    {
      "cell_type": "code",
      "source": [
        "#12.  How do you define a custom Jinja filter in Flask?\n",
        "\n",
        "from flask import Flask\n",
        "\n",
        "app = Flask(__name__)\n",
        "\n",
        "@app.template_filter('uppercase')\n",
        "def uppercase(s):\n",
        "    return s.upper()\n",
        "\n",
        "if __name__=='__main__':\n",
        "  app.run(debug=True)\n",
        "\n",
        "  #Use it in templates like {{ value | your_filter }}.\n",
        "\n"
      ],
      "metadata": {
        "id": "IfnftpNWTLfq"
      },
      "execution_count": null,
      "outputs": []
    },
    {
      "cell_type": "code",
      "source": [
        "#13.  How can you redirect with query parameters in Flask?\n",
        "\n",
        "from flask import Flask, redirect, url_for, request\n",
        "\n",
        "app = Flask(__name__)\n",
        "\n",
        "@app.route('/')\n",
        "def home():\n",
        "    return 'Welcome to the home page!'\n",
        "\n",
        "@app.route('/search')\n",
        "def search():\n",
        "    q = request.args.get('q')\n",
        "    page = request.args.get('page', 1)\n",
        "    return f'Search results for: {q}, page {page}'\n",
        "\n",
        "@app.route('/go-to-search')\n",
        "def go_to_search():\n",
        "    # Redirect to /search?q=flask&page=2\n",
        "    return redirect(url_for('search', q='flask', page=2))\n",
        "\n",
        "\n",
        "\n",
        "\n"
      ],
      "metadata": {
        "id": "XxI1SoFITLdI"
      },
      "execution_count": null,
      "outputs": []
    },
    {
      "cell_type": "code",
      "source": [
        "#14.  How do you return JSON responses in Flask?\n",
        "\n",
        "from flask import Flask, jsonify\n",
        "\n",
        "app = Flask(__name__)\n",
        "\n",
        "@app.route('/api/data')\n",
        "def get_data():\n",
        "    data = {\n",
        "        \"name\": \"Khushi\",\n",
        "        \"age\": 21,\n",
        "        \"skills\": [\"Python\", \"Flask\", \"Data Science\"]\n",
        "    }\n",
        "    return jsonify(data)\n",
        "\n"
      ],
      "metadata": {
        "id": "EwxNPkpLTLaK"
      },
      "execution_count": null,
      "outputs": []
    },
    {
      "cell_type": "code",
      "source": [
        "#15.  How do you capture URL parameters in Flask?\n",
        "\n",
        "from flask import Flask,\n",
        "\n",
        "app = Flask(__name__)\n",
        "\n",
        "\n",
        "@app.route('/user/<username>')\n",
        "def profile(username):\n",
        "    return f\"Hello, {username}!\"\n",
        "\n",
        "\n",
        "\n",
        "if __name__=='__main__':\n",
        "  app.run(debug=True)\n"
      ],
      "metadata": {
        "id": "-Pr5KpxJTLXZ"
      },
      "execution_count": null,
      "outputs": []
    },
    {
      "cell_type": "code",
      "source": [],
      "metadata": {
        "id": "QXm0VkbmETQ-"
      },
      "execution_count": null,
      "outputs": []
    }
  ]
}